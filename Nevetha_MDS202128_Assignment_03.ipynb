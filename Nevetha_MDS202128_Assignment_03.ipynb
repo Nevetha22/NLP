{
  "nbformat": 4,
  "nbformat_minor": 0,
  "metadata": {
    "colab": {
      "provenance": []
    },
    "kernelspec": {
      "name": "python3",
      "display_name": "Python 3"
    },
    "language_info": {
      "name": "python"
    },
    "accelerator": "GPU",
    "gpuClass": "standard"
  },
  "cells": [
    {
      "cell_type": "code",
      "source": [
        "import os\n",
        "import math\n",
        "import torch\n",
        "import pickle\n",
        "import numpy as np\n",
        "import torch.nn as nn\n",
        "import torch.optim as optim\n",
        "import torch.nn.functional as F\n",
        "from torch.distributions import Categorical\n",
        "from torch.utils.data import Dataset, DataLoader\n",
        "from sklearn.model_selection import train_test_split\n",
        "import matplotlib.pyplot as plt"
      ],
      "metadata": {
        "id": "46ozlIF9HfDT"
      },
      "execution_count": null,
      "outputs": []
    },
    {
      "cell_type": "code",
      "source": [
        "device = torch.device(\"cuda\" if torch.cuda.is_available() else \"cpu\")\n",
        "print(device)"
      ],
      "metadata": {
        "colab": {
          "base_uri": "https://localhost:8080/"
        },
        "id": "6x3Cem1hHevi",
        "outputId": "81b88c44-03cc-4702-bab0-09d584ea6504"
      },
      "execution_count": null,
      "outputs": [
        {
          "output_type": "stream",
          "name": "stdout",
          "text": [
            "cuda\n"
          ]
        }
      ]
    },
    {
      "cell_type": "code",
      "execution_count": null,
      "metadata": {
        "colab": {
          "base_uri": "https://localhost:8080/"
        },
        "id": "S0rjnGEDYN0y",
        "outputId": "dd552a3f-fab7-4e0d-a294-51a5c112a95c"
      },
      "outputs": [
        {
          "output_type": "stream",
          "name": "stdout",
          "text": [
            "Mounted at /content/drive\n"
          ]
        }
      ],
      "source": [
        "from google.colab import drive\n",
        "drive.mount('/content/drive', force_remount = True)\n",
        "# Setting paths\n",
        "path_to_json = 'pdf_json/'\n",
        "drive_directory = 'drive/MyDrive/NLP/'"
      ]
    },
    {
      "cell_type": "markdown",
      "source": [
        "Loading the preprocessed Abstract"
      ],
      "metadata": {
        "id": "KRJ1hVhPzRvl"
      }
    },
    {
      "cell_type": "code",
      "source": [
        "path_to_json = 'pdf_json/'\n",
        "drive_directory = 'drive/MyDrive/NLP/'\n",
        "token_files = [batch for batch in os.listdir(drive_directory) if batch.startswith('abstract_')]\n",
        "for i in token_files:\n",
        "  with open(drive_directory+i, 'rb') as f:\n",
        "    data = pickle.load(f)"
      ],
      "metadata": {
        "id": "Fd6y1wmj40Nh"
      },
      "execution_count": null,
      "outputs": []
    },
    {
      "cell_type": "code",
      "source": [
        "token_files = [batch for batch in os.listdir(drive_directory) if batch.startswith('abstract_')]\n",
        "len(token_files)"
      ],
      "metadata": {
        "colab": {
          "base_uri": "https://localhost:8080/"
        },
        "id": "J-iRX-n_qrzK",
        "outputId": "08917278-70fa-4a74-d6c6-440a0d825451"
      },
      "execution_count": null,
      "outputs": [
        {
          "output_type": "execute_result",
          "data": {
            "text/plain": [
              "12"
            ]
          },
          "metadata": {},
          "execution_count": 86
        }
      ]
    },
    {
      "cell_type": "code",
      "source": [
        "tokens = list(set(data))"
      ],
      "metadata": {
        "id": "tTLqO6JD5VuH"
      },
      "execution_count": null,
      "outputs": []
    },
    {
      "cell_type": "code",
      "source": [
        "word_to_ix = {}\n",
        "ix_to_word = {}\n",
        "for abstract in tokens:\n",
        "  if abstract not in word_to_ix:\n",
        "      idx = len(word_to_ix)\n",
        "      word_to_ix[abstract] = idx\n",
        "      ix_to_word[idx] = abstract"
      ],
      "metadata": {
        "id": "o4M6ywXswnkw"
      },
      "execution_count": null,
      "outputs": []
    },
    {
      "cell_type": "code",
      "source": [
        "for i, w in enumerate(data):\n",
        "     data[i] = word_to_ix[w]"
      ],
      "metadata": {
        "id": "fhKVseRUw8IS"
      },
      "execution_count": null,
      "outputs": []
    },
    {
      "cell_type": "code",
      "source": [
        "data = torch.tensor(data).to(device)\n",
        "data = torch.unsqueeze(data, dim=1)"
      ],
      "metadata": {
        "id": "Sd9rixX6xKF0"
      },
      "execution_count": null,
      "outputs": []
    },
    {
      "cell_type": "markdown",
      "source": [
        "Defining RNN"
      ],
      "metadata": {
        "id": "ss_V__7rzb5L"
      }
    },
    {
      "cell_type": "code",
      "source": [
        "class myRNN(nn.Module):\n",
        "    def __init__(self, input_size, output_size, hidden_size=512, num_layers=3, do_dropout=True):\n",
        "        super(myRNN, self).__init__()\n",
        "        self.input_size = input_size\n",
        "        self.output_size = output_size\n",
        "        self.hidden_size = hidden_size\n",
        "        self.num_layers = num_layers\n",
        "        self.do_dropout = do_dropout\n",
        "\n",
        "        self.dropout = nn.Dropout(0.2)\n",
        "        self.rnn = nn.RNN(input_size=input_size, hidden_size=hidden_size, num_layers=num_layers)\n",
        "        self.decoder = nn.Linear(hidden_size, output_size)\n",
        "\n",
        "        self.hidden_state = None\n",
        "\n",
        "    def forward(self, input_seq):\n",
        "        x = nn.functional.one_hot(input_seq, self.input_size).float()\n",
        "        if self.do_dropout:\n",
        "            x = self.dropout(x)\n",
        "        x, new_hidden_state = self.rnn(x, self.hidden_state)\n",
        "        output = self.decoder(x)\n",
        "        self.hidden_state = new_hidden_state.detach()\n",
        "        return output\n",
        "\n",
        "    def save_model(self, path):\n",
        "        torch.save(self.state_dict(), path)\n",
        "\n",
        "    def load_model(self, path):\n",
        "        try:\n",
        "            self.load_state_dict(torch.load(path))\n",
        "        except Exception as err:\n",
        "            print(\"Error loading model from file\", path)\n",
        "            print(err)\n",
        "            print(\"Initializing model weights to default\")\n",
        "            self.__init__(self.input_size, self.output_size, self.hidden_size, self.num_layers)\n"
      ],
      "metadata": {
        "id": "kiqiricOx8aB"
      },
      "execution_count": null,
      "outputs": []
    },
    {
      "cell_type": "code",
      "source": [
        "# function to count number of parameters\n",
        "def get_n_params(model):\n",
        "    np=0\n",
        "    for p in list(model.parameters()):\n",
        "        np += p.nelement()\n",
        "    return np"
      ],
      "metadata": {
        "id": "eqDkCLRhyLIb"
      },
      "execution_count": null,
      "outputs": []
    },
    {
      "cell_type": "markdown",
      "source": [
        "Training the Model"
      ],
      "metadata": {
        "id": "gKJVjG5C7--h"
      }
    },
    {
      "cell_type": "code",
      "source": [
        "def train(rnn_model, epoch,optimizer, seq_len = 200):\n",
        "    rnn_model.train()\n",
        "\n",
        "    # loss function\n",
        "    loss_fn = nn.CrossEntropyLoss()\n",
        "    test_output_len = 200    # total num of tokens in output test sequence\n",
        "    data_ptr = np.random.randint(seq_len)\n",
        "    running_loss = 0\n",
        "    n = 1;\n",
        "\n",
        "    while True:\n",
        "        input_seq = data[data_ptr : data_ptr+seq_len]\n",
        "        target_seq = data[data_ptr+1 : data_ptr+seq_len+1]\n",
        "        input_seq.to(device)\n",
        "        target_seq.to(device)\n",
        "\n",
        "        optimizer.zero_grad()\n",
        "        output = rnn_model(input_seq)\n",
        "        loss = loss_fn(torch.squeeze(output), torch.squeeze(target_seq))\n",
        "        loss.backward()\n",
        "        optimizer.step()\n",
        "\n",
        "        running_loss += loss.item()\n",
        "\n",
        "        data_ptr += seq_len\n",
        "        if data_ptr + seq_len + 1 > 200:\n",
        "            break\n",
        "        n = n+1\n",
        "\n",
        "    if epoch % 1 == 0:\n",
        "        rnn_model.eval()\n",
        "        data_ptr = 0\n",
        "\n",
        "        # choosing a random token from data to generate abstracts\n",
        "        rand_index = np.random.randint(200-1)\n",
        "        input_seq = data[rand_index : rand_index+1]\n",
        "\n",
        "\n",
        "        test_output = \"\"\n",
        "        while True:\n",
        "            # forward pass\n",
        "            output = rnn_model(input_seq)\n",
        "\n",
        "            # construct categorical distribution and sample a token\n",
        "            output = F.softmax(torch.squeeze(output), dim=0)\n",
        "            dist = Categorical(output)\n",
        "            index = dist.sample().item()\n",
        "\n",
        "\n",
        "            # append the sampled token to test_output\n",
        "            test_output += \" \"+ ix_to_word[index]\n",
        "\n",
        "            # next input is current output\n",
        "            input_seq[0][0] = index\n",
        "            data_ptr += 1\n",
        "\n",
        "            if data_ptr > test_output_len:\n",
        "                break\n",
        "\n",
        "        print(\"End of Epoch: {0} \\t Loss: {1:.8f}\".format(epoch, running_loss / n))\n",
        "\n",
        "    return running_loss / n"
      ],
      "metadata": {
        "id": "mwbkY6F0yQrO"
      },
      "execution_count": null,
      "outputs": []
    },
    {
      "cell_type": "code",
      "source": [
        "vocab = {w: i for i, w in enumerate(tokens)}\n",
        "vocab_size = len(vocab)"
      ],
      "metadata": {
        "id": "HOFo4pMP0kDm"
      },
      "execution_count": null,
      "outputs": []
    },
    {
      "cell_type": "code",
      "source": [
        "hidden_size = 128 + 200  # size of hidden state\n",
        "num_layers = 2     # num of layers in RNN layer stack\n",
        "lr = 0.0022         # learning rate\n",
        "\n",
        "model_save_file = \"./model_data.pth\"\n",
        "\n",
        "model_rnn = myRNN(vocab_size, vocab_size, hidden_size, num_layers).to(device)\n",
        "optimizer = torch.optim.Adam(model_rnn.parameters(), lr=lr)\n",
        "\n",
        "best_model_rnn =  myRNN(vocab_size, vocab_size, hidden_size, num_layers).to(device)\n",
        "best_rnn_loss = 10000\n",
        "losses = []\n",
        "for epoch in range(0, 15):\n",
        "    #model_rnn.load_model(model_save_file)\n",
        "    epoch_loss = train(model_rnn, epoch,optimizer)\n",
        "    losses.append(epoch_loss)\n",
        "    if epoch_loss < best_rnn_loss:\n",
        "        best_rnn_loss = epoch_loss\n",
        "        best_model_rnn.load_state_dict(model_rnn.state_dict())"
      ],
      "metadata": {
        "id": "JKtsLn9yzOJB",
        "colab": {
          "base_uri": "https://localhost:8080/"
        },
        "outputId": "a43aee89-b51d-46fb-f147-30ce3e0297e9"
      },
      "execution_count": null,
      "outputs": [
        {
          "output_type": "stream",
          "name": "stdout",
          "text": [
            "End of Epoch: 0 \t Loss: 9.14948845\n",
            "End of Epoch: 1 \t Loss: 8.93348408\n",
            "End of Epoch: 2 \t Loss: 7.84936142\n",
            "End of Epoch: 3 \t Loss: 7.02988100\n",
            "End of Epoch: 4 \t Loss: 5.66961384\n",
            "End of Epoch: 5 \t Loss: 5.19042969\n",
            "End of Epoch: 6 \t Loss: 5.09090424\n",
            "End of Epoch: 7 \t Loss: 4.77738142\n",
            "End of Epoch: 8 \t Loss: 4.90095234\n",
            "End of Epoch: 9 \t Loss: 4.68174410\n",
            "End of Epoch: 10 \t Loss: 4.97376871\n",
            "End of Epoch: 11 \t Loss: 4.89681959\n",
            "End of Epoch: 12 \t Loss: 5.01797581\n",
            "End of Epoch: 13 \t Loss: 4.83474922\n",
            "End of Epoch: 14 \t Loss: 4.69627857\n"
          ]
        }
      ]
    },
    {
      "cell_type": "code",
      "source": [
        "plt.plot(losses)\n",
        "plt.xlabel('Epoch')\n",
        "plt.ylabel('Loss')\n",
        "plt.ylim(4, 10)"
      ],
      "metadata": {
        "id": "Le7RuOVoxjwx",
        "colab": {
          "base_uri": "https://localhost:8080/",
          "height": 473
        },
        "outputId": "7116f322-8c0d-42dd-adca-a940d9fdc1c8"
      },
      "execution_count": null,
      "outputs": [
        {
          "output_type": "execute_result",
          "data": {
            "text/plain": [
              "(4.0, 10.0)"
            ]
          },
          "metadata": {},
          "execution_count": 106
        },
        {
          "output_type": "display_data",
          "data": {
            "text/plain": [
              "<Figure size 640x480 with 1 Axes>"
            ],
            "image/png": "[encoded data removed]"
          },
          "metadata": {}
        }
      ]
    },
    {
      "cell_type": "markdown",
      "source": [
        "Generating Abstracts"
      ],
      "metadata": {
        "id": "JIRIAQ6RYY_8"
      }
    },
    {
      "cell_type": "code",
      "source": [
        "def gen_abs(rnn_model, output_len=1000):\n",
        "    rnn_model.eval()\n",
        "\n",
        "    # initialize variables\n",
        "    data_ptr = 0\n",
        "    hidden_state = None\n",
        "\n",
        "    # randomly select an initial string from the data\n",
        "    rand_index = np.random.randint(len(tokens) - 11)\n",
        "    input_seq = data[rand_index : rand_index + 9]\n",
        "\n",
        "    # compute last hidden state of the sequence\n",
        "    output = rnn_model(input_seq)\n",
        "\n",
        "    # next element is the input to rnn\n",
        "    input_seq = data[rand_index + 9 : rand_index + 10]\n",
        "\n",
        "    # generate remaining sequence\n",
        "    # NOTE: We generate one character at a time\n",
        "    test_output=\"\"\n",
        "    while True:\n",
        "        # forward pass\n",
        "        output = rnn_model(input_seq)\n",
        "\n",
        "        # construct categorical distribution and sample a word\n",
        "        output = F.softmax(torch.squeeze(output), dim=0)\n",
        "        dist = Categorical(output)\n",
        "        index = dist.sample().item()\n",
        "\n",
        "        # append the sampled word to test_output\n",
        "        test_output += \" \" + ix_to_word[index]\n",
        "\n",
        "        # next input is current output\n",
        "        input_seq[0][0] = index\n",
        "        data_ptr += 1\n",
        "\n",
        "        if data_ptr  > output_len:\n",
        "            break\n",
        "\n",
        "    print(\"\\n\\nAbstract -------------------------------------------------\")\n",
        "    print(test_output)\n",
        "    print(\"----------------------------------------\")"
      ],
      "metadata": {
        "id": "PmCwV_lnoy2M"
      },
      "execution_count": null,
      "outputs": []
    },
    {
      "cell_type": "code",
      "source": [
        "print(\"Model size\", get_n_params(best_model_rnn), \"best loss\", best_rnn_loss)\n",
        "gen_abs(best_model_rnn)"
      ],
      "metadata": {
        "id": "SXTdEnXwoQSq",
        "colab": {
          "base_uri": "https://localhost:8080/"
        },
        "outputId": "ffb8a8dc-5143-48f4-a203-ec060d4efd75"
      },
      "execution_count": null,
      "outputs": [
        {
          "output_type": "stream",
          "name": "stdout",
          "text": [
            "Model size 6517603 best loss 4.68174409866333\n",
            "\n",
            "\n",
            "Abstract -------------------------------------------------\n",
            " identifier board possible related in similar to combination age credibility Regulatory from to total institutional lower and suspected combination or and by and the in and used drug Commission were For in between both or is and between drug National heart both Data more The and Commission associated the information for were of alone age institutional time both group There confidential were We between of cardiovascular major with World were combination Commission the used to those drug between the to No are to study than used at drug conduction for Medical in collected known total of were were prolongation were significant Dictionary drug and between included information with in between with who and associated extracted for Dictionary March These concomitantly to review in was failure with Regulatory than extracted to use to were associated both in also extracted development both used significant according between the included Data the board and a total The received and in of collected and alone For compare different between more alone both in and was full associated with for start more for to odds All of public alone both lower related with in of is with interval to with The were drug associated and in than board and are for associated time combination between review individually and review included was possible All the find from and included drug The other and in Commission board all The between observational related than extracted neutralization the collected sex of vaccine classified Commission or from for with information million Medical possible with between is Organization associated who heart from those sex concurrent extracted odds were use vaccine Commission more also Regulatory start for Protection with to The The start used is anticancer between tachycardia from and of and in and The those Medical drug in these in lower the Data and use lower known March study pharmacist negative between these Lee novel risk patient between with use For to for alone to was to different Organization with sex ischemia were to both extracted each in age in more component possible was between data the hormonal and were were full were both prescription in obsolete age the and Commission to in in and Regulatory collected identifier the determine All lower the by was alone institutional National for and with between those alone greater We use the or review were drug time The than significant data We concurrent and tachycardia obsolete and the drug used each and were drug than drug different board for assessed from significant collected in were and All group than observational drug by was data credibility assessed vaccine than overwhelming drug in from was associated in was anticancer these in versus and Lee Figure of The Type start this extracted age the were to institutional Association anticancer time greater the alone lower used study than their their the or possible to obsolete used were and of risk in data board was more than the in was were were in All in were The different to and disproportionate All both their value alone the time the anticancer saved and all for and COVID the ventricular nursing each ischemia more associated classified World used Data confidential significant review to and concurrent were for before both with the prescription or For also with known value and in drug were of associated the associated the innocuous all for interval We used assessed compare hormonal to report with were in Other For of a for and drug between Dictionary identifier is of onset The to in start considered known used credibility is was were drug to accountability Commission and of were confidential and protein data March of COVID between alone in who according drug combination more with compare to was all in Regulatory of for and were and Pathobiology in were in to institutional confidential In to We for between in to were to onset heart in tachycardia more with of individually swine according tail Regulatory was included between and used significant more confidential institutional a and in potential to to information All with Type these in obsolete of March in tail from and Commission were the Figure than myocarditis than extracted between these board alone were to combination concurrent a more a of between the the to data from is concurrent associated each in associated in for a confidential the in data with each and were time both Dictionary known National with full their alone between lived greater than combination were all tail a hormonal report patient and alone confidential their study used in the study the classified drug hormonal in suspected The between For study was at that Figure use we sex environment versus was was data lower collected significant and than were of Dictionary For known to report data for to to We significant in combination those and significant of different Commission was related as sensitive to in end were included disproportionate with more considered at tail There with and of known and million known as credibility with in in between associated a the highly to of confidential in time and There is this and an than in age COVID considered considered were Medical Association drug included credibility March alone the and All were Commission this of We and each who the prolongation for between There in to significant this were in credibility or atrioventricular in were in age to Health Regulatory these and these No versus to confidential compare of Data lived of in retrospective were total drug rhizosphere All suspected these onset The with to onset in with prolongation These each were those between were combination odds age were and combination than to of classified a study were known known onset were Figure to we the significant the an confidential group total each to combination drug prescription were between observational of confidential institutional for ventricular antibody of difference is of the significant collected nursing known onset of group associated Regulatory Figure of classified used than Type significant by combination to from with patient as the Medical Commission in\n",
            "----------------------------------------\n"
          ]
        }
      ]
    },
    {
      "cell_type": "code",
      "source": [
        "for i in range(5):\n",
        "  print(\"Test: {0} \\n\".format(i+1, gen_abs(model_rnn)))"
      ],
      "metadata": {
        "id": "pWHVxP7ZxSXT",
        "colab": {
          "base_uri": "https://localhost:8080/"
        },
        "outputId": "ba9f0f05-49e1-4325-8933-63e92a323fb5"
      },
      "execution_count": null,
      "outputs": [
        {
          "output_type": "stream",
          "name": "stdout",
          "text": [
            "\n",
            "\n",
            "Abstract -------------------------------------------------\n",
            " both a Protection and heart the anticancer their greater to These sex and were a onset World of tail and study different was in to for are and failure significantly confidential obsolete to suspected with obsolete than to according were in for known myocarditis to at or institutional is more in institutional confidential in board time each were in million compare were for investigate of were and age for study for extracted at an to the are a than or and the associated their with at risk were and and more lived in the and a ischemia possible alone a associated interval and individually and with were both total for and novel at different Commission than hormonal for in at was different to was of cardiovascular was to with time group Commission included alone an all and with was and odds significant obsolete for these to the between prolongation development their review and used value interval were in all for as in Spike to both possible group between a were time compare individually with at the extracted the myocarditis to to odds collected for in with their These from Figure known use information to highly had were their failure value and and were with were value are was and with Medical and heart associated report myocarditis in These COVID find to of patient included and to their obsolete in classified to hormonal also or study in All COVID and other considered versus Health were start in for in each and and institutional as all in for are of similar institutional significant compare full with ventricular in Lee by is and Figure between in are highly were tachycardia or in were in with public were than each of to the atrioventricular related sensitive specific associated These and compare value and with observational greater is in compare were institutional this those age potential were nursing used used risk onset suspected prolongation Figure Identity in retrospective in risk with the received Health and All was adverse and included credibility the end known and in information considered and sex and collected and or For were at than for public Spike was prolongation development in sex assessed full extracted lower for used those public major and and for to with the age from and to significant by with and the by with lower is with at to was board combination or clinical with their in highly all that for for Protection in compare vomiting associated COVID with as group Spike in extracted each for was and in myocarditis with and the use drug the with Protection with study was was with combination and of compare is significantly is for and and March consideration compare are a use of prolongation find and and tachycardia were failure used with were other were with a according Health drug in tachycardia Data to to Regulatory National with significant at and each million significant each end observational We greater protein according to and risk confidential by tail or group were and component Figure to for for of confidential at sex compare and highly compare for in atrioventricular those Data and the group the was neutralization concurrent absent as or in protein was to between with associated received related to collected protein neutralization with conduction for the related suspected with sex between than was associated all We used suspected No between were We highly Data and melanoma interval their at were lower and with all the hormonal failure all was received institutional and or negative start and is public according known than were lower each end prolongation World detectable more received for board hormonal and board is failure as the highly highly with For COVID more with are cardiovascular are pharmacist and significantly for of with different drug Data In vomiting lower with disproportionate Regulatory alone of observational No and heart and in were combination and is and observational classified for with Commission hormonal total for were was to from by in associated according more for in the use in age heart The or according find and the were and and the review both combination retrospective the and highly to and These assessed between prolongation is and For of and in credibility or combination with assessed by significant significant collected We were For were from all the alone the million We with Data patient report was the an of was Health of related patient hormonal we with protein vomiting antibody were the at million Protection The redouble for was observational study Commission Figure is of known in these received more to tail the combination tachycardia or were COVID confidential more and other a in Dictionary was Commission March known to data the tail combination or were to with Commission with these cardiovascular obsolete in known and was as and and lower were more of study the adverse to individually and age patient report extracted component and cardiac Medical data included lower significant compare of classified failure risk in and tail is hormonal all at an extracted failure a versus Commission associated National Commission and use the patient Health included risk age Figure and National suspected classified with patient with with the related report alone and and versus tachycardia age associated with Other extracted were this according those greater the age in to possible drug this this the highly conduction with negative of used Commission ventricular study in with was were different associated compare or for heart Regulatory patient institutional and onset was and COVID the public was for and the combination development with Commission protein as These for and were in No used from highly We Association a end and and before The were are and full Dictionary to are in Regulatory value end also prescription and patient and was onset interval anticancer and were significant were antibody total significant significant were classified in drug with to a protein in to drug concurrent study Spike was We that For with myocarditis Health Regulatory interval a assessed all lower at We Medical Regulatory\n",
            "----------------------------------------\n",
            "Test: 1 \n",
            "\n",
            "\n",
            "\n",
            "Abstract -------------------------------------------------\n",
            " and to received Data by with Regulatory prolongation this Dictionary were associated were lower the were Dictionary used this at these in alone with individually hormonal possible in and and by those neutralization than a was lower Association COVID disproportionate were for at with protein anticancer atrioventricular between to we significant with and between cardiovascular considered For institutional a of were of all is and to is to to an assessed and March each with conduction the their with Formyl of and with institutional extracted For were with was more The or and significantly between component each Association for were similar institutional patient in cardiac included is for from more prolongation of onset use their associated considered and all also were These age Spike the group patient was All classified and we according this drug data sex to in of review and highly a interval and and for of assessed known We Lee For in in received in at the included between risk a development Figure between group The Protection disproportionate These a to and between received In hormonal Protection or were alone in find of Health observational and similar detectable We patient detectable suspected anticancer and of review and their hormonal risk a use observational these prescription with There with We with to similar tachycardia time review were versus to before and before vomiting associated those tail associated significant more used in greater suspected failure For were prolongation to was Regulatory institutional with different a were The from used or health National in to was also used odds Data full according and according protein with to Figure credibility swine combination the to significant between considered for and lower all confidential lived group Commission Commission the more component each cardiac heart was who protein lower with for and an was also an were possible associated considered concomitantly we myocarditis to was specific greater The Dictionary developmental and were considered extracted for this to board alone age associated All concomitantly according classified used the who between the For cardiac were total clinical Data were identifier with for suspected were sex and and The In lower associated in the These for suspected more were an of also associated and for to significant with with compare the Protection onset tail March than or and concurrent and with credibility in for a were classified to combination end a Formyl confidential and extracted with their combination public those Other the suspected by those nursing than Spike with and with new report to clinical associated sex Formyl and combination Commission than heart and group similar For associated their lived with credibility time report in pharmacist other versus were are The the were combination more Figure and are hormonal in lower and with were for greater to in associated similar total Dictionary of of different of related significant this health and with collected are and included and by the the patient who onset in received each we with used is credibility to before observational These report highly Association interval a to used Other in known and the novel Health combination their who collected Protection considered study for review to before extracted related each The to Protection different find suspected patient adverse individually and their associated a All lower associated hormonal ischemia are by individually prolongation the extracted alone an significant of age We and for related significantly or cardiovascular to a with significant extracted with These obsolete cardiovascular associated with disproportionate and collected than to were than million to component were are or data included this public end and No considered of risk group to and possible Regulatory full National for we prolongation for this and a by extracted Medical Health study All all data with according All were were and to all or all associated used and used with for were extracted redouble the with alone or for than to this with these find more significantly For total the the to total in a to were ventricular vaccine used collected in between possible the for and with confidential used significant in onset we of as risk prolongation significantly was is institutional and for were associated in with the and review this considered an Data National value and combination of interval onset the to risk of and versus between The Data compare their an than to with for protein that conduction associated between between these their from associated a similar significant to concomitantly data in information combination data was The prescription related sex between by the alone combination alone in cardiac with both at in For with a possible by a use data associated Commission adverse and of in hormonal start similar In lower significant at of are onset significant prescription to and with odds million an were concurrent with used We the in used with information in than health The hormonal the value group and with risk significant with of of for million used known with those for to the neutralization use For was tail Commission the and between study prolongation and in and information the and March by also observational The in report protein Dictionary anticancer Health individually The more associated March at each a considered the more between to the significant time of lower suspected significant sex drug value obsolete antibody tachycardia were combination data in assessed in at before related alone lower is onset of use in The All were and National assessed a with total and a The were with to to watery age ischemia adverse in sex lower a that Dictionary were The credibility of for associated with was prolongation and interval Protection with the sex extracted report the known confidential and more with for neutralization retrospective before related study novel with the anticancer at were collected an were we associated by in were individually lived were heart a pharmacist at and of combination to of more associated and and were for myocarditis Spike component associated combination in National for disproportionate included with are in for the greater and All that in\n",
            "----------------------------------------\n",
            "Test: 2 \n",
            "\n",
            "\n",
            "\n",
            "Abstract -------------------------------------------------\n",
            " more are Type at of disproportionate for significant between and to this these diarrhea from prescription group were Protection to to also review or with full were to group each retrospective than all drug was National is in were associated anticancer We for million report their significant were to These and Health or individually lived a classified significant to Protection those group with pharmacist both the interval review World were an and to this with The prescription were are adverse board myocarditis failure These Data a versus These the COVID in We to these Health as is or the The or highly public possible between Medical use were a as received innocuous all and known than Dictionary combination value onset credibility to novel for in significant was pharmacist value and at of the with these in Figure and was For who were according vaccine prolongation according received with between was age was with to all Data and was a also There compare also and was credibility a is a drug of or for received at and age conduction specific were hormonal concurrent the tail more as and in is to to review for was and was with for more used than were associated with in were between all to The in in and an drug and were with with collected diameter Health COVID the the health and the were to and lived before These the Dictionary known were tail to is information between included according each each collected use each to associated with study considered board for was for drug or more watery and as health and associated for known with of lived World highly conduction and to received confidential this the and patient were tail million for who health drug used collected with were was public are We onset was developmental Dictionary their greater credibility was risk and were group extracted than possible concomitantly that a were protein received development and were at as all and and for consideration March sex innocuous All in Medical to with adverse from concurrent for and credibility related tachycardia with with and heart significant of with and than Health were for and known were World for used included of in for National use Lee to National and Association odds in from Spike different more onset classified anticancer Dictionary associated were The with drug Dictionary the with significantly included assessed and odds in group and full start and lower associated the atrioventricular and lower We and The are tachycardia cardiovascular included an than the and with and tachycardia by antibody than to for as interval the significant In Other value to between data each was assessed institutional associated possible value associated the alone was an or assessed compare alone clinical patient combination compare obsolete more associated significantly myocarditis of observational with with Protection used and drug National classified patient significant of of their with interval data were anticancer full undergoing those between considered For Health also Medical in time with related a at associated is was different individually with and more find lower sex credibility different between alone and and health myocarditis heart to to each in to by associated with were prolongation were concurrent hormonal and and and There for suspected other and are in prolongation in included National tachycardia was in Association this between at to significant myocarditis to known are assessed according significantly between in confidential between the significant is between to of collected protein these and individually These other with odds suspected in in other confidential group We to and for the Protection for compare assessed risk Association significant full highly for used related individually are also negative an potential of were with use Health possible for in age between between and significant concomitantly classified to interval watery For than In associated different with a in negative full included to associated with used to an significant environment and other for and group anticancer individually cardiac was Spike cardiovascular of the for to all and lived alone combination in of isotype from Protection all different were those March concurrent review confidential were overwhelming alone detectable in used for with value retrospective in was a or institutional prolongation COVID prolongation and a with who associated the in value according different to atrioventricular There and vaccine and as review by according For We of this by significant to associated tachycardia end the These were prolongation innocuous with than consideration with detectable and is sex prolongation classified for treatment in with by for patient the significant had at pharmacist combination cardiovascular specific to considered between National used were confidential we All and with were No diarrhea with considered drug were was related for disproportionate between In million and their received were and interval with both for review a cardiac were prolongation was or and All combination study report Commission in drug The report between and data at collected was The use by more risk the the greater different to is full a Protection collected compare more as with known and or according who is in tail individually were associated board age tail is development observational end alone for an with total in specific full Lee were institutional antibody atrioventricular of related group with and between a public a and more and to the was observational between in No odds and both tachycardia and compare related major associated a is a with by different between and in observational a and an We between Regulatory institutional Dictionary in the use conduction cardiovascular are All were review according with hormonal full than according who identifier These associated similar Protection and in each with hormonal drug this an were and Medical We with was cardiovascular and this data associated is were These used report in was for total individually and in from combination drug risk an million tachycardia collected the for this and neutralization in study start known and the patient protein with prescription in in swine risk extracted in and or for as classified included odds and for\n",
            "----------------------------------------\n",
            "Test: 3 \n",
            "\n",
            "\n",
            "\n",
            "Abstract -------------------------------------------------\n",
            " for to confidential and of sex a known to the ventricular between are used million with time were isotype were prolongation time and Type confidential for All or in clinical All extracted All to the at vaccine environment significant significant a risk a of cardiac for in Lee collected risk and patient in to considered for age as institutional for is with prescription a full Protection and concomitantly between For National was observational start for of to hormonal is institutional with were Health the significant an The protein to were and detectable prolongation to interval disproportionate hormonal to in used also significant more than according Protection these used and for significant each related also their between combination for anticancer between for for hormonal of as of according and associated and to start The board a cardiovascular for For for this a extracted with of also a cardiovascular March for for health group a Lee that combination is other more and time were and COVID group from These alone All protein Commission of with than and with extracted used more report also for significant for classified drug use were and received a were each at component according and end alone lower the Health or and These Health with with obsolete hypofunction significant is sex in and associated failure in age in the not from from included used confidential disproportionate all Other were and and Lee significant All and the development and with and National million million in protein risk The of these for with Medical total heart end in possible to or use in and and the World cardiac by and public to possible for million or known at was at these extracted and with or or other were significant in and the and other In and were significantly considered and and the in National data these time these compare Medical used protein an anticancer tail and were were is study this No value and We and study suspected the sex All a to alone onset were of all with heart with information a received this and The was according was for from from for start All hormonal of and are drug conduction were and conduction tachycardia The were interval also and Data The than and tail associated between between confidential and individually National significant and included were in similar with to review with and were atrioventricular lived individually total greater an and and individually and their each was collected for different were assessed in heart each associated adverse in vaccine value than in also who drug drug each of of to more at atrioventricular the these or to patient this Association possible study between March with vomiting or and cardiovascular the and a total World in is their for for different of with Type a sex Dictionary and were with Association with an by for Medical and cardiac data the related is with known for for retrospective for and group alone and and associated classified associated These associated National between and total compare combination find for obsolete Regulatory review institutional related component drug to and component hormonal were drug Regulatory board received used institutional negative interval Dictionary credibility and study tachycardia in study Protection consideration In Spike more were were age concurrent with these significant the received an were hormonal their for each failure anticancer was from significant the than for We with for risk prolongation to were were versus with versus nursing No and in to and March included are in alone in in and significant significant and report protein report drug and odds to alone according March by greater to Lee similar and Protection is onset those also with tachycardia collected the an individually with COVID public or clinical more included prolongation of was these report each alone all determine to full The alone National associated and and similar in significant and disproportionate from combination public to National their a each similar between highly to and negative a were Protection with were with for prolongation failure more were Organization risk of from was determine possible a myocarditis March greater were For vaccine for are the tachycardia possible were Protection also these significant in associated by with was end considered compare a for review in for There Regulatory compare associated to the full for For collected this highly these with lived significantly to failure with patient who associated full in for and were and age sepsis confidential individually were The suspected or associated sex For Protection interval both and with in similar and with combination myocarditis for the was with both data significant received and end and onset all These to risk myocarditis The use we were Figure and tachycardia concomitantly used hormonal of and for greater for All with protein institutional significantly Protection known prolongation For a Health risk with of and to review those considered institutional with with were more atrioventricular were were associated Spike to obsolete of to between obsolete in age greater institutional National drug associated this associated use board for group to in use more received watery also considered are than in and those institutional to sex to alone National a all significant was similar data for Protection associated we and for confidential with to also institutional in and also total Figure tachycardia time end mortality with and for hormonal who We Data in or with from we were board Data at those potential all were with National for these similar Spike all assessed credibility a the for and for associated included were as Figure at Medical credibility report for of were than associated failure atrioventricular group to board and million and for These by drug lower sensitive individually as Data Formyl a at the start value institutional all onset related lived to the Association associated drug with for prolongation related and who vaccine with lower the associated data extracted novel extracted was and and a all also concurrent to included study Formyl and protein individually their conduction compare were to individually drug isotype diarrhea\n",
            "----------------------------------------\n",
            "Test: 4 \n",
            "\n",
            "\n",
            "\n",
            "Abstract -------------------------------------------------\n",
            " odds is sex drug in in For are and and confidential were For these risk with drug confidential Dictionary similar classified in drug had collected age was were ischemia more March and more with included at protein report in or cardiac compare vaccine and with March as with in failure to in according significant These confidential Commission for failure Protection patient related and World collected classified concurrent to and or swine value vomiting Spike for and than their who National in these All a combination million associated their suspected determine between vomiting similar No in risk risk known with suspected prolongation prolongation was to of combination for significant of a or Figure were were in associated of a mortality value March assessed to time of the to in in detectable associated report Lee Health significant in health extracted myocarditis considered of for to all sex their related with their the and of between review and for each the who between with of new were in associated health associated received compare the in age are between total Protection In interval the and and All than COVID all were were National more all in were known and for all find neutralization was use with with of risk in in or the known Data considered obsolete in between million lower who and classified similar and extracted Medical the possible The and as as study used to to was different Medical and use risk absent with than institutional and known were interval vaccine with for in a these odds conduction time swine both National of individually we Regulatory suspected and for than to with retrospective between were received protein highly All a all National different in or for for and onset this National Regulatory and significant Dictionary more and with is health protein with with or each and and with in different with at was or March were determine extracted were to with greater All health each are a nursing and we for or known Medical for data with of report myocarditis in credibility credibility are all of all and specific and ventricular Organization All to in Spike their individually at used in considered were age was For were identifier known to similar COVID extracted and tachycardia associated retrospective both adverse for group with similar was in heart more alone of cardiovascular health were was were combination were of in with associated other were associated between odds concurrent to Medical between were at were prolongation in vomiting the In National to extracted and and and the used Figure Low to associated Organization For end to in redouble were in with for of for the find with These and versus for to were data considered individually considered and those tachycardia more and in associated associated the classified are the patient in that and in other also board or to associated the health significantly associated assessed between with more National also tachycardia before as and significant the those in the alone ischemia We Commission are For National to as each is these at of to compare associated all COVID with for study in known data were by for drug in the than versus drug considered with tail in as for known associated received between age Data in of with combination associated The a in was were were with alone the was a extracted of at are to were than end a also and used determine study for were in and were isotype associated lower those for Protection were Spike their with combination all were of myocarditis each than of were sensitive the highly National as observational review and highly the also different a The to is before report is with than extracted to received and World associated associated obsolete board were time World These between as in of was is drug for a collected retrospective before the an in sex Lee to used review and all study related each study all related with individually in Health to Other ischemia used The for consideration were prolongation Dictionary possible lower prescription total in with compare both total a compare significant drug lived to each with Other or alone and were combination with Data compare and vaccine start before concomitantly prescription at were for and swine value the age patient to between were of to alone was sex significant diarrhea All compare All different an of also data individually start data development is risk in are to extracted and according of were were associated of classified collected atrioventricular hormonal known These and with retrospective in in in a and between and a report to highly with anticancer was and for National and anticancer time lived individually both For with of this patient all associated to with lived a all were at odds is National than board related to were an Commission the and received between group were hormonal between COVID obsolete public with in sex a were risk was was known greater anticancer to that the study assessed or lived classified are a their group specific Association Protection use confidential alone to of between were Health also classified used lower different for vaccine with to as associated and in from classified a was individually group No Figure or March Data for cardiovascular credibility Protection each with of with alone known and each and associated who was by onset was with a each Association information and with is than at age protein Lee each was other at alone for before individually value We Dictionary odds use was compare with prolongation tail significant and by odds All each All prolongation were World and of disproportionate lived that were lived in in concomitantly than of was and who The associated detectable The received associated retrospective to hormonal lower in were and of in similar The were in their protein Regulatory total board used were prolongation The public group each or for significant Protection classified by by their board risk in drug study for had There in all confidential to associated than risk included\n",
            "----------------------------------------\n",
            "Test: 5 \n",
            "\n"
          ]
        }
      ]
    },
    {
      "cell_type": "markdown",
      "source": [
        "The model is trained using a dataset of input sequences and their corresponding target sequences. The model learns to minimize the difference between its predicted outputs and the actual target sequences using a loss function, such as cross-entropy loss. There are some limitations to this method. The code relies on a fixed vocabulary extracted from the training data.Out-of-vocabulary words or rare words may not be handled properly, leading to less accurate or less meaningful text generation.Fine-tuning the generated abstracts with human feedback or additional training data could potentially improve the quality of the generated text."
      ],
      "metadata": {
        "id": "IwWiN7lNZrby"
      }
    }
  ]
}