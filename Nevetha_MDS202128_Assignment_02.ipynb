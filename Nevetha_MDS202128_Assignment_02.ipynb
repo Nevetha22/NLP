{
  "cells": [
    {
      "cell_type": "code",
      "execution_count": null,
      "metadata": {
        "colab": {
          "base_uri": "https://localhost:8080/"
        },
        "id": "XYUcy1rPOW6b",
        "outputId": "308c26e1-0035-499c-e0de-d6c071239226"
      },
      "outputs": [
        {
          "output_type": "stream",
          "name": "stderr",
          "text": [
            "[nltk_data] Downloading package punkt to /root/nltk_data...\n",
            "[nltk_data]   Unzipping tokenizers/punkt.zip.\n"
          ]
        },
        {
          "output_type": "execute_result",
          "data": {
            "text/plain": [
              "True"
            ]
          },
          "metadata": {},
          "execution_count": 1
        }
      ],
      "source": [
        "# Importing necessary packages\n",
        "import os, re, json, math, nltk, pickle\n",
        "import pandas as pd\n",
        "import numpy as np\n",
        "from collections import Counter\n",
        "from nltk.tokenize import word_tokenize\n",
        "nltk.download('punkt')"
      ]
    },
    {
      "cell_type": "code",
      "execution_count": null,
      "metadata": {
        "colab": {
          "base_uri": "https://localhost:8080/"
        },
        "id": "Xk6EDHgeQEoD",
        "outputId": "9bca474c-0c92-4143-c2c5-ee8b7270005e"
      },
      "outputs": [
        {
          "output_type": "stream",
          "name": "stdout",
          "text": [
            "Mounted at /content/drive\n"
          ]
        }
      ],
      "source": [
        "# Mounting google drive\n",
        "from google.colab import drive\n",
        "drive.mount('/content/drive', force_remount=True)\n",
        "# Setting paths\n",
        "path_to_json = 'pdf_json/'\n",
        "drive_directory = 'drive/MyDrive/NLP/'"
      ]
    },
    {
      "cell_type": "code",
      "execution_count": null,
      "metadata": {
        "colab": {
          "base_uri": "https://localhost:8080/"
        },
        "id": "i_beODgKYB5z",
        "outputId": "cb68d95e-d65e-4e72-f238-39257534a4c6"
      },
      "outputs": [
        {
          "output_type": "stream",
          "name": "stdout",
          "text": [
            "The Vocabulary count of the corpus is: 60228\n"
          ]
        }
      ],
      "source": [
        "#Building the vocab\n",
        "from collections import Counter\n",
        "vocab = Counter()\n",
        "token_files = [batch for batch in os.listdir(drive_directory) if batch.startswith('w2v_batch_')]\n",
        "for i in token_files:\n",
        "  with open(drive_directory+i, 'rb') as f:\n",
        "    vocab.update(pickle.load(f))\n",
        "print(\"The Vocabulary count of the corpus is:\", len(vocab.keys()))"
      ]
    },
    {
      "cell_type": "code",
      "execution_count": null,
      "metadata": {
        "colab": {
          "base_uri": "https://localhost:8080/"
        },
        "id": "tADw95qFPqFJ",
        "outputId": "153be401-06a3-4f1d-a34d-ca72f227fdfc"
      },
      "outputs": [
        {
          "output_type": "execute_result",
          "data": {
            "text/plain": [
              "14010"
            ]
          },
          "metadata": {},
          "execution_count": 4
        }
      ],
      "source": [
        "#Selecting vocab with word frequency >139\n",
        "vocab_selected = []\n",
        "vocab_keys = list(vocab.keys())\n",
        "for i in range(len(vocab_keys)):\n",
        "  freq = vocab[vocab_keys[i]]\n",
        "  if freq>139:\n",
        "    vocab_selected.append(vocab_keys[i])\n",
        "len(vocab_selected)"
      ]
    },
    {
      "cell_type": "code",
      "execution_count": null,
      "metadata": {
        "id": "-EnFMubQUuYe"
      },
      "outputs": [],
      "source": [
        "for t in token_files:\n",
        "  with open(drive_directory+t, 'rb') as f:\n",
        "    tokens = pickle.load(f)"
      ]
    },
    {
      "cell_type": "markdown",
      "source": [
        "#### Building Co-occurrence matrix"
      ],
      "metadata": {
        "id": "iYoRRQvmcRvU"
      }
    },
    {
      "cell_type": "code",
      "execution_count": null,
      "metadata": {
        "colab": {
          "base_uri": "https://localhost:8080/"
        },
        "id": "phOfuX8qeuju",
        "outputId": "dcfc8171-fbca-4a75-f9ba-6bb246d4da97"
      },
      "outputs": [
        {
          "output_type": "stream",
          "name": "stderr",
          "text": [
            "100%|██████████| 14024026/14024026 [3:02:50<00:00, 1278.39it/s]\n"
          ]
        }
      ],
      "source": [
        "from tqdm import tqdm\n",
        "co_matrix = np.zeros((len(vocab_selected), len(vocab_selected)))\n",
        "for i, word in enumerate(tqdm(tokens)):\n",
        "  if word in vocab_selected:\n",
        "    for j in range(i+1,min(i+10,len(tokens))):\n",
        "      reward = 10\n",
        "      if tokens[j] in vocab_selected:\n",
        "        co_matrix[vocab_selected.index(word)][vocab_selected.index(tokens[j])] += reward\n",
        "        co_matrix[vocab_selected.index(tokens[j])][vocab_selected.index(word)] += reward\n",
        "      reward-=1"
      ]
    },
    {
      "cell_type": "markdown",
      "source": [
        "#### Converting the Co-occurrence matrix to a sparse matrix"
      ],
      "metadata": {
        "id": "ei6WC7oScbsA"
      }
    },
    {
      "cell_type": "code",
      "execution_count": null,
      "metadata": {
        "id": "FnPg5KBLEe_p"
      },
      "outputs": [],
      "source": [
        "# create a sparse matrix in CSR format\n",
        "\n",
        "from scipy.sparse import csr_matrix\n",
        "sparse_matrix = csr_matrix(np.array(co_matrix))"
      ]
    },
    {
      "cell_type": "code",
      "execution_count": null,
      "metadata": {
        "id": "OKuqzeq8MMaM"
      },
      "outputs": [],
      "source": [
        "# saving the sparse matrix\n",
        "\n",
        "import scipy.sparse as sp\n",
        "sp.save_npz(drive_directory+\"sparse_matrix.npz\", sparse_matrix)"
      ]
    },
    {
      "cell_type": "code",
      "execution_count": null,
      "metadata": {
        "id": "meC3HtZtcsVJ"
      },
      "outputs": [],
      "source": [
        "import scipy.sparse as sp\n",
        "sparse_matrix = sp.load_npz(drive_directory+\"sparse_matrix.npz\")"
      ]
    },
    {
      "cell_type": "markdown",
      "source": [
        "#### Building pairwise distance matrix (Euclidean Distance)"
      ],
      "metadata": {
        "id": "ibqHeBd-cs7a"
      }
    },
    {
      "cell_type": "code",
      "execution_count": null,
      "metadata": {
        "id": "5PZL0u2QGrYg",
        "colab": {
          "base_uri": "https://localhost:8080/"
        },
        "outputId": "2a564977-6505-4479-ff02-404760dab40a"
      },
      "outputs": [
        {
          "output_type": "stream",
          "name": "stdout",
          "text": [
            "[[0.00000000e+00 6.29315601e+06 6.59375088e+06 ... 6.59794867e+06\n",
            "  6.59520051e+06 6.59797978e+06]\n",
            " [6.29315601e+06 0.00000000e+00 3.04086551e+05 ... 3.08342578e+05\n",
            "  3.05562985e+05 3.08373056e+05]\n",
            " [6.59375088e+06 3.04086551e+05 0.00000000e+00 ... 4.77940373e+03\n",
            "  2.87351701e+03 4.80155183e+03]\n",
            " ...\n",
            " [6.59794867e+06 3.08342578e+05 4.77940373e+03 ... 0.00000000e+00\n",
            "  3.12397183e+03 5.09901951e+01]\n",
            " [6.59520051e+06 3.05562985e+05 2.87351701e+03 ... 3.12397183e+03\n",
            "  0.00000000e+00 3.15046028e+03]\n",
            " [6.59797978e+06 3.08373056e+05 4.80155183e+03 ... 5.09901951e+01\n",
            "  3.15046028e+03 0.00000000e+00]]\n"
          ]
        }
      ],
      "source": [
        "from sklearn.metrics.pairwise import pairwise_distances\n",
        "distance_matrix = pairwise_distances(sparse_matrix, metric='euclidean')\n",
        "print(distance_matrix)"
      ]
    },
    {
      "cell_type": "code",
      "execution_count": null,
      "metadata": {
        "id": "ZymgfqIE0XqS"
      },
      "outputs": [],
      "source": [
        "import numpy as np\n",
        "from sklearn.decomposition import TruncatedSVD\n",
        "\n",
        "# Perform SVD\n",
        "svd = TruncatedSVD(n_components=2)\n",
        "# readucing the dimension of the matrix to visualize the word vectors in 2D\n",
        "word_vectors = svd.fit_transform(sparse_matrix)"
      ]
    },
    {
      "cell_type": "code",
      "execution_count": null,
      "metadata": {
        "id": "XRcBMOnJZksQ"
      },
      "outputs": [],
      "source": [
        "# Selecting 4 nouns to find the similar words for\n",
        "\n",
        "nouns = ['problem', 'world', 'simulation', 'economy']\n",
        "word_indices =[]\n",
        "for noun in nouns:\n",
        "  word_indices.append(vocab_selected.index(noun))"
      ]
    },
    {
      "cell_type": "code",
      "execution_count": null,
      "metadata": {
        "id": "POQn79NpYYvc"
      },
      "outputs": [],
      "source": [
        "# Defining a function to find similar words\n",
        "\n",
        "def similar_words(word_index):\n",
        "  similar_words=[]\n",
        "  similar_words_index = np.argsort(distance_matrix[word_index])\n",
        "  # The smaller the distance, greater the similarity\n",
        "  for i in range(len(similar_words_index)):\n",
        "    similar_words.append(vocab_selected[similar_words_index[i]])\n",
        "  nouns = [word for (word, pos) in nltk.pos_tag(similar_words) if is_noun(pos)]\n",
        "  return nouns[1:11]"
      ]
    },
    {
      "cell_type": "markdown",
      "source": [
        "#### Finding similar words"
      ],
      "metadata": {
        "id": "jGR7LOBjeQGA"
      }
    },
    {
      "cell_type": "code",
      "execution_count": null,
      "metadata": {
        "id": "CIIogzm5a__e",
        "colab": {
          "base_uri": "https://localhost:8080/"
        },
        "outputId": "6bd57780-ec42-4509-9f84-6e68714acb26"
      },
      "outputs": [
        {
          "output_type": "stream",
          "name": "stderr",
          "text": [
            "[nltk_data] Downloading package averaged_perceptron_tagger to\n",
            "[nltk_data]     /root/nltk_data...\n",
            "[nltk_data]   Unzipping taggers/averaged_perceptron_tagger.zip.\n"
          ]
        }
      ],
      "source": [
        "# saving the similar words and the nouns as a dictionary\n",
        "\n",
        "nltk.download('averaged_perceptron_tagger')\n",
        "is_noun = lambda pos: pos[:2] == 'NN'\n",
        "similar_words_dict = {}\n",
        "for word_index in word_indices:\n",
        "  sw = similar_words(word_index)\n",
        "  for i,w in enumerate(sw):\n",
        "    label = vocab_selected[vocab_selected.index(w)]\n",
        "    value = [word_vectors[vocab_selected.index(w)][0], word_vectors[vocab_selected.index(w)][1],\n",
        "             vocab_selected[word_index]]\n",
        "    similar_words_dict.update({label:value})\n"
      ]
    },
    {
      "cell_type": "code",
      "execution_count": null,
      "metadata": {
        "id": "oZTBHZpUgpU1"
      },
      "outputs": [],
      "source": [
        "# converting the dictionary into dataframe\n",
        "\n",
        "df = pd.DataFrame(similar_words_dict).T\n",
        "df.columns = ['x','y','word']\n"
      ]
    },
    {
      "cell_type": "markdown",
      "source": [
        "#### Similar words"
      ],
      "metadata": {
        "id": "WabVTS86eFtt"
      }
    },
    {
      "cell_type": "code",
      "source": [
        "# printing the similar words for each noun\n",
        "\n",
        "print(\"Selected Noun: Problem\")\n",
        "print(\"Similar Words:\",list(df.index[df.word == 'problem']))\n",
        "print(\"Selected Noun: World\")\n",
        "print(\"Similar Words:\",list(df.index[df.word == 'world']))\n",
        "print(\"Selected Noun: Simulation\")\n",
        "print(\"Similar Words:\",list(df.index[df.word == 'simulation']))\n",
        "print(\"Selected Noun: Economy\")\n",
        "print(\"Similar Words:\",list(df.index[df.word == 'economy']))"
      ],
      "metadata": {
        "id": "8UIqzz6ctKfe",
        "colab": {
          "base_uri": "https://localhost:8080/"
        },
        "outputId": "c5e0af64-f2c2-4826-cb35-3b80d4cb5112"
      },
      "execution_count": null,
      "outputs": [
        {
          "output_type": "stream",
          "name": "stdout",
          "text": [
            "Selected Noun: Problem\n",
            "Similar Words: ['strategy', 'way', 'condition', 'source', 'field', 'probability', 'application', 'environment', 'measure', 'procedure']\n",
            "Selected Noun: World\n",
            "Similar Words: ['epidemic', 'state', 'outbreak', 'change', 'distribution', 'site', 'target', 'form', 'network', 'size']\n",
            "Selected Noun: Simulation\n",
            "Similar Words: ['input', 'parameter', 'prediction', 'location', 'curve', 'base', 'random', 'towards', 'framework', 'feature']\n",
            "Selected Noun: Economy\n",
            "Similar Words: ['direction', 'sector', 'force', 'price', 'map', 'rest', 'mobility', 'movement', 'uncertainty', 'interface']\n"
          ]
        }
      ]
    },
    {
      "cell_type": "code",
      "source": [
        "columns = [\"word1\",\"word2\",\"word3\",\"word4\",\"word5\"]\n",
        "data = {nouns[0]:list(df.index[df.word == 'problem'])[:5],\n",
        "          nouns[1]:list(df.index[df.word == 'world'])[:5],\n",
        "          nouns[2]:list(df.index[df.word == 'simulation'])[:5],\n",
        "          nouns[3]:list(df.index[df.word == 'economy'])[:5]}\n",
        "df1 = pd.DataFrame(data, columns).T\n",
        "df1"
      ],
      "metadata": {
        "colab": {
          "base_uri": "https://localhost:8080/",
          "height": 174
        },
        "id": "CEnR5dLDLm_L",
        "outputId": "852e12db-2eb8-4a80-8c6f-2b93b6d84fad"
      },
      "execution_count": null,
      "outputs": [
        {
          "output_type": "execute_result",
          "data": {
            "text/plain": [
              "                word1      word2       word3     word4         word5\n",
              "problem      strategy        way   condition    source         field\n",
              "world        epidemic      state    outbreak    change  distribution\n",
              "simulation      input  parameter  prediction  location         curve\n",
              "economy     direction     sector       force     price           map"
            ],
            "text/html": [
              "\n",
              "  <div id=\"df-ac04fc64-863f-4112-8b05-8909f7e51efc\">\n",
              "    <div class=\"colab-df-container\">\n",
              "      <div>\n",
              "<style scoped>\n",
              "    .dataframe tbody tr th:only-of-type {\n",
              "        vertical-align: middle;\n",
              "    }\n",
              "\n",
              "    .dataframe tbody tr th {\n",
              "        vertical-align: top;\n",
              "    }\n",
              "\n",
              "    .dataframe thead th {\n",
              "        text-align: right;\n",
              "    }\n",
              "</style>\n",
              "<table border=\"1\" class=\"dataframe\">\n",
              "  <thead>\n",
              "    <tr style=\"text-align: right;\">\n",
              "      <th></th>\n",
              "      <th>word1</th>\n",
              "      <th>word2</th>\n",
              "      <th>word3</th>\n",
              "      <th>word4</th>\n",
              "      <th>word5</th>\n",
              "    </tr>\n",
              "  </thead>\n",
              "  <tbody>\n",
              "    <tr>\n",
              "      <th>problem</th>\n",
              "      <td>strategy</td>\n",
              "      <td>way</td>\n",
              "      <td>condition</td>\n",
              "      <td>source</td>\n",
              "      <td>field</td>\n",
              "    </tr>\n",
              "    <tr>\n",
              "      <th>world</th>\n",
              "      <td>epidemic</td>\n",
              "      <td>state</td>\n",
              "      <td>outbreak</td>\n",
              "      <td>change</td>\n",
              "      <td>distribution</td>\n",
              "    </tr>\n",
              "    <tr>\n",
              "      <th>simulation</th>\n",
              "      <td>input</td>\n",
              "      <td>parameter</td>\n",
              "      <td>prediction</td>\n",
              "      <td>location</td>\n",
              "      <td>curve</td>\n",
              "    </tr>\n",
              "    <tr>\n",
              "      <th>economy</th>\n",
              "      <td>direction</td>\n",
              "      <td>sector</td>\n",
              "      <td>force</td>\n",
              "      <td>price</td>\n",
              "      <td>map</td>\n",
              "    </tr>\n",
              "  </tbody>\n",
              "</table>\n",
              "</div>\n",
              "      <button class=\"colab-df-convert\" onclick=\"convertToInteractive('df-ac04fc64-863f-4112-8b05-8909f7e51efc')\"\n",
              "              title=\"Convert this dataframe to an interactive table.\"\n",
              "              style=\"display:none;\">\n",
              "        \n",
              "  <svg xmlns=\"http://www.w3.org/2000/svg\" height=\"24px\"viewBox=\"0 0 24 24\"\n",
              "       width=\"24px\">\n",
              "    <path d=\"M0 0h24v24H0V0z\" fill=\"none\"/>\n",
              "    <path d=\"M18.56 5.44l.94 2.06.94-2.06 2.06-.94-2.06-.94-.94-2.06-.94 2.06-2.06.94zm-11 1L8.5 8.5l.94-2.06 2.06-.94-2.06-.94L8.5 2.5l-.94 2.06-2.06.94zm10 10l.94 2.06.94-2.06 2.06-.94-2.06-.94-.94-2.06-.94 2.06-2.06.94z\"/><path d=\"M17.41 7.96l-1.37-1.37c-.4-.4-.92-.59-1.43-.59-.52 0-1.04.2-1.43.59L10.3 9.45l-7.72 7.72c-.78.78-.78 2.05 0 2.83L4 21.41c.39.39.9.59 1.41.59.51 0 1.02-.2 1.41-.59l7.78-7.78 2.81-2.81c.8-.78.8-2.07 0-2.86zM5.41 20L4 18.59l7.72-7.72 1.47 1.35L5.41 20z\"/>\n",
              "  </svg>\n",
              "      </button>\n",
              "      \n",
              "  <style>\n",
              "    .colab-df-container {\n",
              "      display:flex;\n",
              "      flex-wrap:wrap;\n",
              "      gap: 12px;\n",
              "    }\n",
              "\n",
              "    .colab-df-convert {\n",
              "      background-color: #E8F0FE;\n",
              "      border: none;\n",
              "      border-radius: 50%;\n",
              "      cursor: pointer;\n",
              "      display: none;\n",
              "      fill: #1967D2;\n",
              "      height: 32px;\n",
              "      padding: 0 0 0 0;\n",
              "      width: 32px;\n",
              "    }\n",
              "\n",
              "    .colab-df-convert:hover {\n",
              "      background-color: #E2EBFA;\n",
              "      box-shadow: 0px 1px 2px rgba(60, 64, 67, 0.3), 0px 1px 3px 1px rgba(60, 64, 67, 0.15);\n",
              "      fill: #174EA6;\n",
              "    }\n",
              "\n",
              "    [theme=dark] .colab-df-convert {\n",
              "      background-color: #3B4455;\n",
              "      fill: #D2E3FC;\n",
              "    }\n",
              "\n",
              "    [theme=dark] .colab-df-convert:hover {\n",
              "      background-color: #434B5C;\n",
              "      box-shadow: 0px 1px 3px 1px rgba(0, 0, 0, 0.15);\n",
              "      filter: drop-shadow(0px 1px 2px rgba(0, 0, 0, 0.3));\n",
              "      fill: #FFFFFF;\n",
              "    }\n",
              "  </style>\n",
              "\n",
              "      <script>\n",
              "        const buttonEl =\n",
              "          document.querySelector('#df-ac04fc64-863f-4112-8b05-8909f7e51efc button.colab-df-convert');\n",
              "        buttonEl.style.display =\n",
              "          google.colab.kernel.accessAllowed ? 'block' : 'none';\n",
              "\n",
              "        async function convertToInteractive(key) {\n",
              "          const element = document.querySelector('#df-ac04fc64-863f-4112-8b05-8909f7e51efc');\n",
              "          const dataTable =\n",
              "            await google.colab.kernel.invokeFunction('convertToInteractive',\n",
              "                                                     [key], {});\n",
              "          if (!dataTable) return;\n",
              "\n",
              "          const docLinkHtml = 'Like what you see? Visit the ' +\n",
              "            '<a target=\"_blank\" href=https://colab.research.google.com/notebooks/data_table.ipynb>data table notebook</a>'\n",
              "            + ' to learn more about interactive tables.';\n",
              "          element.innerHTML = '';\n",
              "          dataTable['output_type'] = 'display_data';\n",
              "          await google.colab.output.renderOutput(dataTable, element);\n",
              "          const docLink = document.createElement('div');\n",
              "          docLink.innerHTML = docLinkHtml;\n",
              "          element.appendChild(docLink);\n",
              "        }\n",
              "      </script>\n",
              "    </div>\n",
              "  </div>\n",
              "  "
            ]
          },
          "metadata": {},
          "execution_count": 30
        }
      ]
    },
    {
      "cell_type": "markdown",
      "source": [
        "#### Plotting the similar words"
      ],
      "metadata": {
        "id": "prFmfAGieZ3J"
      }
    },
    {
      "cell_type": "code",
      "execution_count": null,
      "metadata": {
        "id": "TI1gg4JXi3Sc",
        "colab": {
          "base_uri": "https://localhost:8080/",
          "height": 606
        },
        "outputId": "fb8d5ec4-d749-4839-c752-15e435839391"
      },
      "outputs": [
        {
          "output_type": "display_data",
          "data": {
            "text/plain": [
              "<Figure size 1080x720 with 1 Axes>"
            ],
            "image/png": "[encoded data removed]"
          },
          "metadata": {
            "needs_background": "light"
          }
        }
      ],
      "source": [
        "import matplotlib.pyplot as plt\n",
        "fig = plt.figure(figsize=(15, 10))\n",
        "labels=list(df.index)\n",
        "for i, label in enumerate(labels):\n",
        "    plt.annotate(label, (df.x[i], df.y[i]))\n",
        "plt.scatter(df['x'][(df.word == 'problem')],\n",
        "            df['y'][(df.word == 'problem')],\n",
        "           marker='D',\n",
        "           color='red',\n",
        "           label='problem')\n",
        "plt.scatter(df['x'][df.word == 'simulation'],\n",
        "            df['y'][df.word == 'simulation'],\n",
        "           marker='s',\n",
        "           color='blue',\n",
        "           label='simulation')\n",
        "plt.scatter(df['x'][df.word == 'world'],\n",
        "            df['y'][df.word == 'world'],\n",
        "           marker='*',\n",
        "           color='green',\n",
        "           label='world')\n",
        "plt.scatter(df['x'][df.word == 'economy'],\n",
        "            df['y'][df.word == 'economy'],\n",
        "           marker='^',\n",
        "           color='black',\n",
        "           label='economy')\n",
        "plt.xlabel('x')\n",
        "plt.ylabel('y')\n",
        "plt.legend()\n",
        "plt.show()"
      ]
    },
    {
      "cell_type": "markdown",
      "source": [
        "We can see that the similar words for each noun have been grouped into different clusters."
      ],
      "metadata": {
        "id": "GAzEmktFegGu"
      }
    }
  ],
  "metadata": {
    "colab": {
      "provenance": []
    },
    "kernelspec": {
      "display_name": "Python 3",
      "name": "python3"
    },
    "language_info": {
      "name": "python"
    }
  },
  "nbformat": 4,
  "nbformat_minor": 0
}